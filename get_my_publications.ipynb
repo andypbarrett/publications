{
 "cells": [
  {
   "cell_type": "markdown",
   "id": "1d8e7fed-f7e3-43a4-984f-2bf355f013c5",
   "metadata": {},
   "source": [
    "https://chrisholdgraf.com/blog/2022/orcid-auto-update/\n",
    "\n",
    "https://github.com/Project-TAPIR/pidgraph-notebooks/blob/main/person-works/orcid_get_works_by_person.ipynb\n",
    "\n"
   ]
  },
  {
   "cell_type": "code",
   "execution_count": 1,
   "id": "e06515f0-efa4-4d00-b24d-7b8092b9d911",
   "metadata": {},
   "outputs": [],
   "source": [
    "import requests\n"
   ]
  },
  {
   "cell_type": "code",
   "execution_count": 2,
   "id": "99b47ac2-eb2e-48b4-ae0e-a8fec14c95e0",
   "metadata": {},
   "outputs": [],
   "source": [
    "# URL for ORCID API\n",
    "ORCID_RECORD_API = \"https://pub.orcid.org/v3.0/\"\n",
    "\n",
    "# query ORCID for an ORCID record\n",
    "def query_orcid_for_record(orcid_id):\n",
    "\n",
    "    response = requests.get(url=requests.utils.requote_uri(ORCID_RECORD_API + orcid_id),\n",
    "                          headers={'Accept': 'application/json'})\n",
    "    response.raise_for_status()\n",
    "    result=response.json()\n",
    "    return result\n",
    "\n",
    "# extract works section from ORCID profile\n",
    "def extract_works_section(orcid_record):\n",
    "    # orcid_dict=benedict.from_json(orcid_record)\n",
    "    works=orcid_record['activities-summary']['works']['group']\n",
    "    return works\n",
    "\n",
    "# for each work in the work section: extract title and DOI\n",
    "def extract_doi(work):\n",
    "    title = get_title(work)\n",
    "    doi = get_doi(work)\n",
    "    return doi, title\n",
    "\n",
    "def get_title(work):\n",
    "    return work['work-summary'][0]['title']['title']['value']\n",
    "\n",
    "def get_doi(work):\n",
    "    \"\"\"Returns first DOI\"\"\"\n",
    "    pids = work['work-summary'][0]['external-ids']['external-id']\n",
    "    dois = [pid['external-id-value'] for pid in pids if pid['external-id-type'] == \"doi\"]\n",
    "    return dois[0] if dois else None    "
   ]
  },
  {
   "cell_type": "code",
   "execution_count": 6,
   "id": "63193b25-2310-42ca-8c36-124c25289160",
   "metadata": {},
   "outputs": [],
   "source": [
    "orcid = query_orcid_for_record(\"0000-0003-1682-3872\")"
   ]
  },
  {
   "cell_type": "code",
   "execution_count": 21,
   "id": "afeee3f4-09ec-4819-8e81-729b3b31d2cd",
   "metadata": {},
   "outputs": [
    {
     "data": {
      "text/plain": [
       "'0000-0003-1682-3872'"
      ]
     },
     "execution_count": 21,
     "metadata": {},
     "output_type": "execute_result"
    }
   ],
   "source": [
    "orcid['orcid-identifier'][\"path\"]"
   ]
  },
  {
   "cell_type": "code",
   "execution_count": 17,
   "id": "ef5c86d4-88fc-494c-9147-4887dc7b41de",
   "metadata": {},
   "outputs": [
    {
     "data": {
      "text/plain": [
       "[]"
      ]
     },
     "execution_count": 17,
     "metadata": {},
     "output_type": "execute_result"
    }
   ],
   "source": [
    "orcid[\"person\"][\"emails\"][\"email\"]"
   ]
  },
  {
   "cell_type": "code",
   "execution_count": null,
   "id": "cd4bda7f-a32b-4c3b-b441-fe04de21afbe",
   "metadata": {},
   "outputs": [],
   "source": [
    "if len(email) == 0:\n",
    "    return "
   ]
  },
  {
   "cell_type": "code",
   "execution_count": 3,
   "id": "0bf3cbce-1df2-4823-953d-e83364ff3820",
   "metadata": {},
   "outputs": [],
   "source": [
    "ORCID = \"0000-0003-4394-5445\""
   ]
  },
  {
   "cell_type": "code",
   "execution_count": 4,
   "id": "54e1b92d-6497-40ce-80d7-715239bf89b8",
   "metadata": {},
   "outputs": [],
   "source": [
    "orcid_record = query_orcid_for_record(ORCID)"
   ]
  },
  {
   "cell_type": "code",
   "execution_count": 5,
   "id": "3c285b2f-5a12-4dfb-942b-b3c89be847e7",
   "metadata": {},
   "outputs": [
    {
     "name": "stdout",
     "output_type": "stream",
     "text": [
      "('10.1029/2023GL106486', 'Mapping Potential Timing of Ice Algal Blooms From Satellite')\n",
      "('10.1109/jstars.2024.3413003', 'Partial Label Learning with Focal Loss for Sea Ice Classification Based on Ice Charts')\n",
      "('10.1080/01431161.2023.2248560', 'Enhancing sea ice segmentation in Sentinel-1 images with atrous convolutions')\n",
      "('10.5194/egusphere-egu21-9020', 'Impact of CMIP6 biomass burning emissions on Arctic sea ice loss')\n",
      "('10.5194/egusphere-egu21-13980', 'The Arctic Rain on Snow Study')\n",
      "('10.1029/2019JC015900', 'A Lagrangian Snow Evolution System for Sea Ice Applications (SnowModel‐LG): Part II—Analyses')\n",
      "('10.1029/2019JC015422', 'Monthly Variability in Bering Strait Oceanic Volume and Heat Transports, Links to Atmospheric Circulation and Ocean Temperature, and Implications for Sea Ice Conditions')\n"
     ]
    }
   ],
   "source": [
    "works = extract_works_section(orcid_record)\n",
    "for work in works:\n",
    "    print(extract_doi(work))"
   ]
  },
  {
   "cell_type": "code",
   "execution_count": 19,
   "id": "8c2a5232-6cad-49f8-b54c-f7160bf63d47",
   "metadata": {},
   "outputs": [],
   "source": [
    "work = works[0]\n"
   ]
  },
  {
   "cell_type": "code",
   "execution_count": 9,
   "id": "986fa309-ce16-4159-86c5-7f9b69cb6fc4",
   "metadata": {},
   "outputs": [
    {
     "data": {
      "text/plain": [
       "'10.1029/2019JC015422'"
      ]
     },
     "execution_count": 9,
     "metadata": {},
     "output_type": "execute_result"
    }
   ],
   "source": [
    "doi = get_doi(work)\n",
    "doi"
   ]
  },
  {
   "cell_type": "code",
   "execution_count": 3,
   "id": "446b38b9-9ea7-4fe4-844a-4617275a8063",
   "metadata": {},
   "outputs": [],
   "source": [
    "#from requests import get\n",
    "# doi = \"10.1371/journal.pcbi.1009651\"\n",
    "def get_citation(doi, cite_format=\"bibtex\"):\n",
    "    \"\"\"Returns a citation for a DOI\"\"\"\n",
    "    formats = {\n",
    "        \"citeproc\": {\n",
    "            'accept': \"citeproc+json\",\n",
    "        },\n",
    "        \"bibtex\": {\n",
    "            'accept': \"bibtex\",\n",
    "        },\n",
    "        \"bibliography\": {\n",
    "            \"accept\": \"text/x-bibliography; style=apa\", \n",
    "            \"User-Agent\": \"mailto:youremail@email.com\",\n",
    "        },\n",
    "    }\n",
    "    url = f\"https://dx.doi.org/{doi}\"\n",
    "    try:\n",
    "        header = formats[cite_format]\n",
    "    except:\n",
    "        raise KeyError(f\"Unknown format {cite_format}\")\n",
    "\n",
    "    r = requests.get(url, headers=header)\n",
    "    return r.content"
   ]
  },
  {
   "cell_type": "code",
   "execution_count": 4,
   "id": "93c92491-e59e-4f71-8306-3dd2fd876c02",
   "metadata": {},
   "outputs": [
    {
     "data": {
      "text/plain": [
       "b'No acceptable resource available.'"
      ]
     },
     "execution_count": 4,
     "metadata": {},
     "output_type": "execute_result"
    }
   ],
   "source": [
    "get_citation(\"10.1002/ece3.11341\")"
   ]
  },
  {
   "cell_type": "code",
   "execution_count": 7,
   "id": "0cd3c98d-f9a1-4a6d-8452-95560be63c49",
   "metadata": {},
   "outputs": [
    {
     "name": "stdout",
     "output_type": "stream",
     "text": [
      "b'No acceptable resource available.'\n",
      "b'No acceptable resource available.'\n",
      "b'No acceptable resource available.'\n",
      "b'No acceptable resource available.'\n",
      "b'No acceptable resource available.'\n",
      "b'No acceptable resource available.'\n",
      "b'No acceptable resource available.'\n"
     ]
    }
   ],
   "source": [
    "for work in works:\n",
    "    doi = get_doi(work)\n",
    "    print(get_citation(doi, cite_format=\"bibtex\"))"
   ]
  },
  {
   "cell_type": "code",
   "execution_count": 10,
   "id": "4d701d49-846f-4c38-ac30-8a03b99dea0b",
   "metadata": {},
   "outputs": [
    {
     "data": {
      "text/plain": [
       "'https://dx.doi.org/10.1029/2019JC015422'"
      ]
     },
     "execution_count": 10,
     "metadata": {},
     "output_type": "execute_result"
    }
   ],
   "source": [
    "url = f\"https://dx.doi.org/{doi}\"\n",
    "url"
   ]
  },
  {
   "cell_type": "code",
   "execution_count": 12,
   "id": "4c5fa784-055f-484a-bb88-f1cfdf1fb965",
   "metadata": {},
   "outputs": [],
   "source": [
    "header = {\n",
    "            'accept': \"bibtex\",\n",
    "        }\n",
    "r = requests.get(url, headers=header)"
   ]
  },
  {
   "cell_type": "code",
   "execution_count": 14,
   "id": "a843d14b-a455-44ab-9577-a53a9a8a29e5",
   "metadata": {},
   "outputs": [
    {
     "data": {
      "text/plain": [
       "<Response [406]>"
      ]
     },
     "execution_count": 14,
     "metadata": {},
     "output_type": "execute_result"
    }
   ],
   "source": [
    "r"
   ]
  },
  {
   "cell_type": "markdown",
   "id": "d08ed694-4f26-43c7-a64c-62105d89daef",
   "metadata": {},
   "source": [
    "This may work better"
   ]
  },
  {
   "cell_type": "code",
   "execution_count": 15,
   "id": "f19a4f06-0ffd-4a9d-b46c-dce0ad2ad94c",
   "metadata": {},
   "outputs": [
    {
     "data": {
      "text/plain": [
       "'http://api.crossref.org/works/10.1029/2019JC015422/transform/application/x-bibtex'"
      ]
     },
     "execution_count": 15,
     "metadata": {},
     "output_type": "execute_result"
    }
   ],
   "source": [
    "url = \"http://api.crossref.org/works/\" + doi +\"/transform/application/x-bibtex\"\n",
    "url"
   ]
  },
  {
   "cell_type": "code",
   "execution_count": null,
   "id": "3b8f75fc-3da2-4c9f-a319-af1cf22b548e",
   "metadata": {},
   "outputs": [],
   "source": []
  }
 ],
 "metadata": {
  "kernelspec": {
   "display_name": "Python 3 (ipykernel)",
   "language": "python",
   "name": "python3"
  },
  "language_info": {
   "codemirror_mode": {
    "name": "ipython",
    "version": 3
   },
   "file_extension": ".py",
   "mimetype": "text/x-python",
   "name": "python",
   "nbconvert_exporter": "python",
   "pygments_lexer": "ipython3",
   "version": "3.12.3"
  }
 },
 "nbformat": 4,
 "nbformat_minor": 5
}

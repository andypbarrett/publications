{
 "cells": [
  {
   "cell_type": "markdown",
   "id": "9b3a9c63-b468-4aed-936f-0d6037611cd7",
   "metadata": {},
   "source": [
    "# Build NSF COA Co-Author List from DOI\n",
    "\n",
    "NSF requires a list of collaborators and co-authors as an accompanying document for proposals.  This is onerous, especially if you have papers with many, many co-authors.  This notebook utilizes DOI bibliographic records and ORCID to create this list.\n",
    "\n",
    "All that is required is a list of DOI and a list of collaborators."
   ]
  },
  {
   "cell_type": "code",
   "execution_count": 28,
   "id": "6d4e917e-46e7-45ac-88bb-e94cf7fef9aa",
   "metadata": {},
   "outputs": [],
   "source": [
    "import requests\n",
    "import json\n",
    "\n",
    "from orcid import Orcid"
   ]
  },
  {
   "cell_type": "code",
   "execution_count": 42,
   "id": "e6ea9f2e-3da9-4c30-addf-1426b1409807",
   "metadata": {},
   "outputs": [],
   "source": [
    "def crossref_url(doi, format=\"json\"):\n",
    "    \"\"\"Retrieves a DOI record from crossref\"\"\"\n",
    "    return f\"http://api.crossref.org/works/{doi}/transform/application/{format}\"\n",
    "\n",
    "def get_doi_record(doi, format=\"json\"):\n",
    "    url = crossref_url(doi, format=format)\n",
    "    r = requests.get(url)\n",
    "    return r.content\n",
    "\n",
    "class Author:\n",
    "\n",
    "    def __init__(self, author_info):\n",
    "        \"\"\"Initializes Author\n",
    "        \n",
    "        author_info : dict or author information from doi json\n",
    "        \"\"\"\n",
    "        self.orcid = author_info[\"ORCID\"]\n",
    "        self.given = author_info[\"given\"]\n",
    "        self.family = author_info[\"family\"]\n",
    "        self.sequence = author_info[\"sequence\"]\n",
    "        self.affiliation = [af[\"name\"] for af in author_info[\"affiliation\"]]\n",
    "        self.email = author_info.get(\"email\", \"\")\n",
    "\n",
    "    def to_list(self):\n",
    "        return [f\"{self.family}, {self.given}\", f\"{self.affiliation[0]}\", f\"{self.email}\"]\n",
    "\n",
    "    def email_from_orcid(self):\n",
    "        if self.orcid != \"\":\n",
    "            oid = self.orcid.split(\"/\")[-1]\n",
    "            self.email = Orcid(oid).email"
   ]
  },
  {
   "cell_type": "code",
   "execution_count": 13,
   "id": "d964aca7-6620-49a8-ad7a-ae8abf50513f",
   "metadata": {},
   "outputs": [],
   "source": [
    "doi = \"10.1002/ece3.11341\"\n",
    "record = json.loads(get_doi_record(doi))"
   ]
  },
  {
   "cell_type": "code",
   "execution_count": 30,
   "id": "01e7c91b-2c79-48d9-9f2f-619d774ff7ba",
   "metadata": {},
   "outputs": [],
   "source": [
    "author = Author(record[\"author\"][0])"
   ]
  },
  {
   "cell_type": "code",
   "execution_count": 36,
   "id": "57af13f4-36c5-4ff1-8263-f91c5a40e0db",
   "metadata": {},
   "outputs": [
    {
     "data": {
      "text/plain": [
       "['Lowndes, Julia Stewart',\n",
       " 'University of California, Santa Barbara  Santa Barbara California USA',\n",
       " '[]']"
      ]
     },
     "execution_count": 36,
     "metadata": {},
     "output_type": "execute_result"
    }
   ],
   "source": [
    "author.to_list()"
   ]
  },
  {
   "cell_type": "code",
   "execution_count": 37,
   "id": "f219ac50-0cf2-4f2d-9288-17b067829667",
   "metadata": {},
   "outputs": [],
   "source": [
    "author.email_from_orcid()"
   ]
  },
  {
   "cell_type": "code",
   "execution_count": 38,
   "id": "40815e7a-f982-4f1c-8bfd-f33bbd354d3c",
   "metadata": {},
   "outputs": [
    {
     "data": {
      "text/plain": [
       "['Lowndes, Julia Stewart',\n",
       " 'University of California, Santa Barbara  Santa Barbara California USA',\n",
       " '[]']"
      ]
     },
     "execution_count": 38,
     "metadata": {},
     "output_type": "execute_result"
    }
   ],
   "source": [
    "author.to_list()"
   ]
  },
  {
   "cell_type": "code",
   "execution_count": 48,
   "id": "345d670e-de8a-4cc3-8060-3cadb0760602",
   "metadata": {},
   "outputs": [],
   "source": [
    "authors = [Author(a) for a in record[\"author\"]]\n",
    "authors = [a.to_list() for a in authors if a.family != \"Barrett\"]"
   ]
  },
  {
   "cell_type": "code",
   "execution_count": 52,
   "id": "18befbc2-f91a-409a-b265-088a03afd6f1",
   "metadata": {},
   "outputs": [
    {
     "data": {
      "text/plain": [
       "['C:',\n",
       " 'Lowndes, Julia Stewart',\n",
       " 'University of California, Santa Barbara  Santa Barbara California USA',\n",
       " '']"
      ]
     },
     "execution_count": 52,
     "metadata": {},
     "output_type": "execute_result"
    }
   ],
   "source": [
    "[\"C:\"] + authors[0]"
   ]
  },
  {
   "cell_type": "code",
   "execution_count": 50,
   "id": "dc6d8e25-a7af-4cea-8ac7-aa1f61f7e671",
   "metadata": {},
   "outputs": [],
   "source": [
    "import csv\n",
    "with open('some.csv', 'w', newline='') as f:\n",
    "    writer = csv.writer(f)\n",
    "    writer.writerow([\"name\", \"affiliation\", \"email\"])\n",
    "    writer.writerows(authors)\n"
   ]
  },
  {
   "cell_type": "code",
   "execution_count": null,
   "id": "9d70e3f1-bb41-45c6-b09d-5266fc6ee6dd",
   "metadata": {},
   "outputs": [],
   "source": []
  }
 ],
 "metadata": {
  "kernelspec": {
   "display_name": "Python 3 (ipykernel)",
   "language": "python",
   "name": "python3"
  },
  "language_info": {
   "codemirror_mode": {
    "name": "ipython",
    "version": 3
   },
   "file_extension": ".py",
   "mimetype": "text/x-python",
   "name": "python",
   "nbconvert_exporter": "python",
   "pygments_lexer": "ipython3",
   "version": "3.12.3"
  }
 },
 "nbformat": 4,
 "nbformat_minor": 5
}
